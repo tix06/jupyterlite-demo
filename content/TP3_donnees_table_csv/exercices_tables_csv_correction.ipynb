{
 "cells": [
  {
   "cell_type": "markdown",
   "id": "martial-multimedia",
   "metadata": {},
   "source": [
    "# Exercice 1\n",
    "## Exploration du fichier `stations.csv`\n",
    "\n",
    "Le format CSV est l'un des formats les plus simples pour structurer des données et les transférer d'une application à une autre. C'est ce que l'on appelle l'**interopérabilité**.\n",
    "\n",
    "Pour importer le contenu d'un fichier CSV et le transformer en un tableau Python, nous utiliserons:\n",
    "\n",
    "* la méthode `open` avec le paramètre `mode='r'`, qui permet d'*ouvrir* le contenu du *fichier* en *lecture*: `fichier_ouvert = open(fichier, mode='r')`\n",
    "* `list(csv.reader(fichier_ouvert, delimiter = ','))` pour créer un tableau Python à partir du contenu CSV, en considérant le séparateur virgule ','"
   ]
  },
  {
   "cell_type": "code",
   "execution_count": 1,
   "id": "sixth-geneva",
   "metadata": {},
   "outputs": [],
   "source": [
    "import csv\n",
    "\n",
    "#ouverture du fichier csv\n",
    "def lecture_fichier(nom_fichier):\n",
    "    with open(nom_fichier, mode='r') as fichier_ouvert:\n",
    "        return list(csv.reader(fichier_ouvert,delimiter=\",\"))"
   ]
  },
  {
   "cell_type": "markdown",
   "id": "italic-vacation",
   "metadata": {},
   "source": [
    "> Ecrire une instruction utilisant la fonction `lecture_fichier`, avec l'argument approprié qui permet de lire le fichier `stations.csv` et d'affecter son contenu dans une variable appelée `stations`."
   ]
  },
  {
   "cell_type": "code",
   "execution_count": 2,
   "id": "careful-reasoning",
   "metadata": {},
   "outputs": [],
   "source": [
    "# Correction\n",
    "stations = lecture_fichier('stations.csv')"
   ]
  },
  {
   "cell_type": "markdown",
   "id": "foster-toolbox",
   "metadata": {},
   "source": [
    "> 1. Explorer la variable `stations` (afficher ses 3 premières lignes).\n",
    "\n",
    ">2. Quel est le type construit de la variable `stations`?\n",
    "3. Que contient la première sous-liste de `stations`: des descripteurs, ou des valeurs?"
   ]
  },
  {
   "cell_type": "code",
   "execution_count": 5,
   "id": "artistic-recruitment",
   "metadata": {},
   "outputs": [
    {
     "data": {
      "text/plain": [
       "[['id',\n",
       "  'latitude',\n",
       "  'longitude',\n",
       "  'couleur',\n",
       "  'nom',\n",
       "  'description',\n",
       "  'T2',\n",
       "  'T3',\n",
       "  'Super_chargeur',\n",
       "  'distance_km'],\n",
       " ['1',\n",
       "  '42.83004',\n",
       "  '2.917944',\n",
       "  '#0000FF',\n",
       "  'reveo',\n",
       "  \"Impasse D'En Valette 66600 SALSES LE CHATEAU\",\n",
       "  '2',\n",
       "  '0',\n",
       "  'Non',\n",
       "  '16.6'],\n",
       " ['2',\n",
       "  '42.85528',\n",
       "  '3.036389',\n",
       "  '#0000FF',\n",
       "  'reveo',\n",
       "  \"Collège- Annexe Port Leucate-Rue De L'Estagnol 11370 LEUCATE\",\n",
       "  '2',\n",
       "  '0',\n",
       "  'Non',\n",
       "  '28.2']]"
      ]
     },
     "execution_count": 5,
     "metadata": {},
     "output_type": "execute_result"
    }
   ],
   "source": [
    "# correction\n",
    "stations[0:3]"
   ]
  },
  {
   "cell_type": "markdown",
   "id": "facial-presentation",
   "metadata": {},
   "source": [
    ">4. Ecrire une instruction qui renvoie le nombre de stations de la variable `stations`"
   ]
  },
  {
   "cell_type": "code",
   "execution_count": 6,
   "id": "controversial-wedding",
   "metadata": {},
   "outputs": [
    {
     "data": {
      "text/plain": [
       "32"
      ]
     },
     "execution_count": 6,
     "metadata": {},
     "output_type": "execute_result"
    }
   ],
   "source": [
    "# correction\n",
    "len(stations) - 1"
   ]
  },
  {
   "cell_type": "markdown",
   "id": "needed-reggae",
   "metadata": {},
   "source": [
    ">5. Ecrire une instruction permettant d'afficher les descripteur de la variable `stations`"
   ]
  },
  {
   "cell_type": "code",
   "execution_count": 8,
   "id": "scenic-excerpt",
   "metadata": {},
   "outputs": [
    {
     "data": {
      "text/plain": [
       "['id',\n",
       " 'latitude',\n",
       " 'longitude',\n",
       " 'couleur',\n",
       " 'nom',\n",
       " 'description',\n",
       " 'T2',\n",
       " 'T3',\n",
       " 'Super_chargeur',\n",
       " 'distance_km']"
      ]
     },
     "execution_count": 8,
     "metadata": {},
     "output_type": "execute_result"
    }
   ],
   "source": [
    "# correction\n",
    "stations[0]"
   ]
  },
  {
   "cell_type": "markdown",
   "id": "frank-trash",
   "metadata": {},
   "source": [
    "Une erreur de saisie de la base de données doit être corrigée. La station 22 a pour longitude 43,20° et non 49,20°.\n",
    "\n",
    ">5. Modifier par affectation la donnée correspondante de la variable `stations`"
   ]
  },
  {
   "cell_type": "code",
   "execution_count": 9,
   "id": "hollow-junction",
   "metadata": {},
   "outputs": [
    {
     "name": "stdout",
     "output_type": "stream",
     "text": [
      "49.20\n"
     ]
    }
   ],
   "source": [
    "# correction\n",
    "print(stations[22][1])"
   ]
  },
  {
   "cell_type": "code",
   "execution_count": 10,
   "id": "neural-ebony",
   "metadata": {},
   "outputs": [
    {
     "name": "stdout",
     "output_type": "stream",
     "text": [
      "['22', 43.2, '2.21', '#0000FF', 'reveo', 'Rue Des Condamines 11290 ARZENS', '2', '1', 'Non', '129.7']\n"
     ]
    }
   ],
   "source": [
    "# correction\n",
    "stations[22][1] = 43.20\n",
    "print(stations[22])"
   ]
  },
  {
   "cell_type": "markdown",
   "id": "funny-background",
   "metadata": {},
   "source": [
    "# Exercice 2\n",
    "## Selection dans une table"
   ]
  },
  {
   "cell_type": "markdown",
   "id": "promising-amount",
   "metadata": {},
   "source": [
    "Phyléas, qui habite Perpignan, décide d'aller en vacances à Toulouse. Il possède un véhicule électrique, qui a une faible autonomie, de 50km. Ce qui l'oblige à anticiper son itinérairre, et prevoir les emplacements des stations de recharge."
   ]
  },
  {
   "cell_type": "code",
   "execution_count": 14,
   "id": "utility-grill",
   "metadata": {},
   "outputs": [],
   "source": [
    "import csv\n",
    "#ouverture du fichier csv\n",
    "def lecture_fichier(nom_fichier):\n",
    "    with open(nom_fichier, mode='r') as fichier_ouvert:\n",
    "        return list(csv.reader(fichier_ouvert, delimiter=\",\"))\n",
    "\n",
    "def detecter_doublons(table):\n",
    "    doublons = []\n",
    "    for i in range (1, len(table)):\n",
    "        for j in range(i + 1, len(table)):\n",
    "            if table[i][1:] == table[j][1:]:\n",
    "                doublons.append([i, j])\n",
    "    return doublons\n",
    "\n",
    "def selectionner(table):\n",
    "    selection=[]\n",
    "    for i in range(1,len(table)):\n",
    "        if critere(table[i]):\n",
    "            selection.append(table[i][0])\n",
    "    return selection"
   ]
  },
  {
   "cell_type": "markdown",
   "id": "systematic-director",
   "metadata": {},
   "source": [
    "Certains fichiers de données en table peuvent contenir des lignes aux valeurs identiques, que l'on appelle des *doublons*. Seule la première colonne, l'*identifiant* est différente.\n",
    "\n",
    ">1. Charger les données du fichier `stations.csv` dans la variable `stations`\n",
    "2. Afficher les lignes 19 à 25. Voyez vous des doublons dans le fichier *stations.csv*?"
   ]
  },
  {
   "cell_type": "code",
   "execution_count": 12,
   "id": "exclusive-doctor",
   "metadata": {},
   "outputs": [
    {
     "name": "stdout",
     "output_type": "stream",
     "text": [
      "18 ['18', '43.20889', '2.444722', '#0000FF', 'reveo', 'Parking Le Stade 11800 TREBES', '2', '1', 'Non', '111.9']\n",
      "19 ['19', '43.21056', '2.443889', '#0000FF', 'reveo', 'Place Du 19 Mars 62 11800 TREBES', '2', '1', 'Non', '111.8']\n",
      "20 ['20', '43.21056', '2.443889', '#0000FF', 'reveo', 'Place Du 19 Mars 62 11800 TREBES', '2', '1', 'Non', '111.8']\n",
      "21 ['21', '43.17333', '2.388611', '#0000FF', 'reveo', 'Centre Commercial Lo Moral 11570 PALAJA', '2', '1', 'Non', '119.1']\n",
      "22 ['22', '49.20', '2.21', '#0000FF', 'reveo', 'Rue Des Condamines 11290 ARZENS', '2', '1', 'Non', '129.7']\n",
      "23 ['22', '43.22141', '2.395041', '#0000FF', 'reveo', 'Chemin De La Madeleine 11010 CARCASSONNE', '2', '1', 'Non', '115']\n",
      "24 ['24', '43.20028', '2.141944', '#0000FF', 'reveo', 'Place De La Republique 11290 MONTREAL', '2', '1', 'Non', '135']\n"
     ]
    }
   ],
   "source": [
    "# correction\n",
    "stations = lecture_fichier('stations.csv')\n",
    "for i in range(18,25):\n",
    "    print(i,stations[i])"
   ]
  },
  {
   "cell_type": "markdown",
   "id": "novel-federation",
   "metadata": {},
   "source": [
    ">3. Utiliser la fonction `detecter_doublons` pour relever tous les doublons. Expliquer son fonctionnement."
   ]
  },
  {
   "cell_type": "code",
   "execution_count": 15,
   "id": "optional-politics",
   "metadata": {},
   "outputs": [
    {
     "data": {
      "text/plain": [
       "[[19, 20], [30, 31]]"
      ]
     },
     "execution_count": 15,
     "metadata": {},
     "output_type": "execute_result"
    }
   ],
   "source": [
    "# correction\n",
    "detecter_doublons(stations)"
   ]
  },
  {
   "cell_type": "markdown",
   "id": "conservative-mitchell",
   "metadata": {},
   "source": [
    "L'instruction `del table[i]` efface la ligne d'iudice `i` de la liste `table`. \n",
    "\n",
    ">4. Ecrire une à une les instructions permettant d'enlever les doublons dans la liste `stations`, **en commençant par la fin** afin de ne pas décaler les lignes."
   ]
  },
  {
   "cell_type": "code",
   "execution_count": 16,
   "id": "acting-ecology",
   "metadata": {},
   "outputs": [
    {
     "name": "stdout",
     "output_type": "stream",
     "text": [
      "18 ['18', '43.20889', '2.444722', '#0000FF', 'reveo', 'Parking Le Stade 11800 TREBES', '2', '1', 'Non', '111.9']\n",
      "19 ['19', '43.21056', '2.443889', '#0000FF', 'reveo', 'Place Du 19 Mars 62 11800 TREBES', '2', '1', 'Non', '111.8']\n",
      "20 ['21', '43.17333', '2.388611', '#0000FF', 'reveo', 'Centre Commercial Lo Moral 11570 PALAJA', '2', '1', 'Non', '119.1']\n",
      "21 ['22', '49.20', '2.21', '#0000FF', 'reveo', 'Rue Des Condamines 11290 ARZENS', '2', '1', 'Non', '129.7']\n",
      "22 ['22', '43.22141', '2.395041', '#0000FF', 'reveo', 'Chemin De La Madeleine 11010 CARCASSONNE', '2', '1', 'Non', '115']\n",
      "23 ['24', '43.20028', '2.141944', '#0000FF', 'reveo', 'Place De La Republique 11290 MONTREAL', '2', '1', 'Non', '135']\n",
      "24 ['25', '43.23917', '2.228056', '#0000FF', 'reveo', 'Rue Saint Roch - Parking Halte Secondaire Canal Midi 11170 VILLESEQUELANDE', '2', '1', 'Oui', '130.3']\n"
     ]
    },
    {
     "data": {
      "text/plain": [
       "[]"
      ]
     },
     "execution_count": 16,
     "metadata": {},
     "output_type": "execute_result"
    }
   ],
   "source": [
    "# correction \n",
    "del stations[31]\n",
    "del stations[20]\n",
    "\n",
    "for i in range(18,25):\n",
    "    print(i,stations[i])\n",
    "    \n",
    "detecter_doublons(stations)"
   ]
  },
  {
   "cell_type": "markdown",
   "id": "applicable-florida",
   "metadata": {},
   "source": [
    "La fonction `selectionner` permet de *selectionner* certaines des lignes `table[i]` d'une table, celles qui retournent `True` au test:\n",
    "\n",
    "```if critere(table[i])``` \n",
    "\n",
    "`critere` est donc une fonction... que vous allez programmer.\n",
    "\n",
    "* Cette fonction prend en paramètre une ligne de la table `stations`. Appelez ce paramètre `station`\n",
    "* Cette fonction compare `station[-1]`, que l'on transformera en flottant, avec la valeur 50:\n",
    " * si cette valeur est inférieure à 50: renvoyer `True`\n",
    " * sinon, renvoyer `False` \n",
    " \n",
    "> 5. Programmer la fonction `critere`\n",
    "6. Utiliser la fonction `selectionner` pour afficher la liste des indices des stations selectionnées."
   ]
  },
  {
   "cell_type": "code",
   "execution_count": 18,
   "id": "industrial-questionnaire",
   "metadata": {},
   "outputs": [
    {
     "name": "stdout",
     "output_type": "stream",
     "text": [
      "['1', '2', '3', '4', '5', '6', '7']\n"
     ]
    },
    {
     "data": {
      "text/plain": [
       "['1', '2', '3', '4', '5', '6', '7']"
      ]
     },
     "execution_count": 18,
     "metadata": {},
     "output_type": "execute_result"
    }
   ],
   "source": [
    "# correction version fonction lambda (pour les terminales NSI)\n",
    "def selectionner1(table, critere):\n",
    "    selection=[]\n",
    "    for i in range(1,len(table)):\n",
    "        if critere(table[i]):\n",
    "            selection.append(table[i][0])\n",
    "    return selection\n",
    "\n",
    "result = selectionner1(stations, lambda x: float(x[-1])<50)\n",
    "print(result)\n",
    "\n",
    "# correction version classique (pour les premieres NSI)\n",
    "def selectionner2(table):\n",
    "    selection=[]\n",
    "    for i in range(1,len(table)):\n",
    "        if critere(table[i]):\n",
    "            selection.append(table[i][0])\n",
    "    return selection\n",
    "\n",
    "def critere(station):\n",
    "    d = float(station[-1])\n",
    "    return d < 50\n",
    "\n",
    "selectionner(stations)"
   ]
  },
  {
   "cell_type": "markdown",
   "id": "rolled-disposition",
   "metadata": {},
   "source": [
    "Pour *selectionner* les informations des stations correspondantes, on pourra utiliser l'instruction suivante:"
   ]
  },
  {
   "cell_type": "code",
   "execution_count": 20,
   "id": "violent-stomach",
   "metadata": {},
   "outputs": [],
   "source": [
    "selection = [station for station in stations if station[0] in selectionner(stations)]"
   ]
  },
  {
   "cell_type": "markdown",
   "id": "common-bible",
   "metadata": {},
   "source": [
    "C'est alors la table `selection` qui stocke les stations *séléctionnées*:"
   ]
  },
  {
   "cell_type": "code",
   "execution_count": 21,
   "id": "honest-abuse",
   "metadata": {},
   "outputs": [
    {
     "data": {
      "text/plain": [
       "[['1',\n",
       "  '42.83004',\n",
       "  '2.917944',\n",
       "  '#0000FF',\n",
       "  'reveo',\n",
       "  \"Impasse D'En Valette 66600 SALSES LE CHATEAU\",\n",
       "  '2',\n",
       "  '0',\n",
       "  'Non',\n",
       "  '16.6'],\n",
       " ['2',\n",
       "  '42.85528',\n",
       "  '3.036389',\n",
       "  '#0000FF',\n",
       "  'reveo',\n",
       "  \"Collège- Annexe Port Leucate-Rue De L'Estagnol 11370 LEUCATE\",\n",
       "  '2',\n",
       "  '0',\n",
       "  'Non',\n",
       "  '28.2'],\n",
       " ['3',\n",
       "  '42.93500',\n",
       "  '3.031667',\n",
       "  '#0000FF',\n",
       "  'reveo',\n",
       "  'Parking Avenue Des Tamarins La Franqui 11370 LEUCATE',\n",
       "  '2',\n",
       "  '1',\n",
       "  'Non',\n",
       "  '39.5'],\n",
       " ['4',\n",
       "  '42.99306',\n",
       "  '2.953611',\n",
       "  '#0000FF',\n",
       "  'reveo',\n",
       "  'Rue De La Capelle 11540 ROQUEFORT-DES-CORBIERES',\n",
       "  '2',\n",
       "  '1',\n",
       "  'Non',\n",
       "  '44.5'],\n",
       " ['5',\n",
       "  '43.02750',\n",
       "  '2.981667',\n",
       "  '#0000FF',\n",
       "  'reveo',\n",
       "  \"Place De L'Octroi 11130 SIGEAN\",\n",
       "  '2',\n",
       "  '1',\n",
       "  'Non',\n",
       "  '47.2'],\n",
       " ['6',\n",
       "  '43.05166',\n",
       "  '2.928098',\n",
       "  '#0000FF',\n",
       "  'reveo',\n",
       "  'Avenue Des Corbieres 11490 PORTEL-DES-CORBIERES',\n",
       "  '2',\n",
       "  '1',\n",
       "  'Non',\n",
       "  '49.7'],\n",
       " ['7',\n",
       "  '43.05778',\n",
       "  '2.921944',\n",
       "  '#0000FF',\n",
       "  'reveo',\n",
       "  'Chemin Des Platrieres Parking Terra Vinea 11490 PORTEL DES CORBIERES',\n",
       "  '2',\n",
       "  '1',\n",
       "  'Non',\n",
       "  '49.5']]"
      ]
     },
     "execution_count": 21,
     "metadata": {},
     "output_type": "execute_result"
    }
   ],
   "source": [
    "selection"
   ]
  },
  {
   "cell_type": "markdown",
   "id": "everyday-municipality",
   "metadata": {},
   "source": [
    ">7. Selectionner maintenant les stations qui possèdent un *Super chargeur*, c'est à dire qui ont pour valeur `'Oui'` dans la colonne correspondante."
   ]
  },
  {
   "cell_type": "code",
   "execution_count": 22,
   "id": "original-watershed",
   "metadata": {},
   "outputs": [
    {
     "data": {
      "text/plain": [
       "['10', '14', '25', '32']"
      ]
     },
     "execution_count": 22,
     "metadata": {},
     "output_type": "execute_result"
    }
   ],
   "source": [
    "# correction\n",
    "def critere(station):\n",
    "    chargeur = station[-2]\n",
    "    return chargeur == 'Oui'\n",
    "\n",
    "selectionner(stations)"
   ]
  },
  {
   "cell_type": "markdown",
   "id": "published-cruise",
   "metadata": {},
   "source": [
    "## Projection dans une table\n",
    "La **projection** permet de créer une nouvelle table, contenant autant de lignes, mais dont on réduit le nombre de colonnes.\n",
    "\n",
    "Observer les scripts de création des listes *selection* et *projection*. \n",
    "\n",
    ">8. Quelle est la différence entre ces 2 scripts ?"
   ]
  },
  {
   "cell_type": "code",
   "execution_count": 14,
   "id": "smoking-vocabulary",
   "metadata": {},
   "outputs": [
    {
     "data": {
      "text/plain": [
       "[['10', '43.16852', '2.985048', '#FF0000', 'TESLASUPERCHARGER'],\n",
       " ['14', '43.14334', '2.727379', '#0000FF', 'reveo'],\n",
       " ['25', '43.23917', '2.228056', '#0000FF', 'reveo'],\n",
       " ['32', '43.295', '2.043056', '#0000FF', 'reveo']]"
      ]
     },
     "execution_count": 14,
     "metadata": {},
     "output_type": "execute_result"
    }
   ],
   "source": [
    "# correction\n",
    "selection = [station for station in table if station[0] in selectionner(table)]\n",
    "projection = [[station[i] for i in [0,1,2,3,4]] for station in selection]\n",
    "projection"
   ]
  },
  {
   "cell_type": "markdown",
   "id": "secondary-trace",
   "metadata": {},
   "source": [
    "La fonction `exporter` va écrire les données en format CSV à partir d'une liste. Cette fonction prend en paramètres:\n",
    "\n",
    "* la liste (paramètre `tableau`)\n",
    "* le nom du fichier, dont on choisira pour extension .csv ou .txt (penser à écrire le nom entre guillemets, c'est une chaine de caractères)"
   ]
  },
  {
   "cell_type": "code",
   "execution_count": 15,
   "id": "seasonal-vienna",
   "metadata": {},
   "outputs": [],
   "source": [
    "def exporter(tableau,fichier):\n",
    "    file = open(fichier, \"w\", newline='')\n",
    "    writer = csv.writer(file)\n",
    "    writer.writerows(tableau)"
   ]
  },
  {
   "cell_type": "markdown",
   "id": "responsible-swiss",
   "metadata": {},
   "source": [
    ">9. Exporter la liste `projection` dans un fichier appelé 'stations_retenues.txt'"
   ]
  },
  {
   "cell_type": "code",
   "execution_count": 17,
   "id": "looking-junior",
   "metadata": {},
   "outputs": [],
   "source": [
    "# correction\n",
    "exporter(projection, 'stations_retenues.txt')"
   ]
  },
  {
   "cell_type": "markdown",
   "id": "animal-wings",
   "metadata": {},
   "source": [
    ">10. Ajouter des marqueurs sur la carte routière à partir du contenu du fichier *stations.txt*. Lien vers la carte interactive: [https://www.cahier-nsi.fr/livecsvmap2/](https://www.cahier-nsi.fr/livecsvmap2/)"
   ]
  },
  {
   "cell_type": "markdown",
   "id": "interim-commonwealth",
   "metadata": {},
   "source": [
    "# Exercice 3\n",
    "## Jointure de tables\n",
    "On cherche à aider Phyleas dans son choix pour ses arrêts. Une solution pourrait être de profiter du temps de recharge électrique de la voiture pour se restaurer. On dispose d'un 2e fichier CSV `snacks.csv`.\n",
    "\n",
    "Afin d'exploiter simultanément les informations provenant des 2 fichiers CSV, il faut les lier entre eux grâce à une opération appelée **fusion des tables**. \n",
    "\n",
    ">1. Importer les données du fichier *stations.txt* dans une varible appelée `stations`\n",
    "2. Importer les données du fichier *snacks.csv* dans une varible appelée `snacks`"
   ]
  },
  {
   "cell_type": "code",
   "execution_count": null,
   "id": "short-terrace",
   "metadata": {},
   "outputs": [],
   "source": []
  },
  {
   "cell_type": "markdown",
   "id": "bottom-penguin",
   "metadata": {},
   "source": [
    ">3. Expliquer comment utiliser le contenu des 2 tables pour se restaurer tout en rechargeant le vehicule electrique.\n",
    "4. Donner la liste des descripteurs communs aux 2 fichiers.\n",
    "5. Ecrire une fonction appelée `jointure`, qui prend 2 tables en paramètres, et retourne une nouvelle table issue de la fusion des 2 tables. Cette table fusionnée ne doit pas contenir 2 fois la même colonne. La table fusionnée doit mettre en correspondance, de manière pertinente, les lignes des 2 tables.\n"
   ]
  },
  {
   "cell_type": "code",
   "execution_count": null,
   "id": "awful-christopher",
   "metadata": {},
   "outputs": [],
   "source": []
  },
  {
   "cell_type": "markdown",
   "id": "noted-graph",
   "metadata": {},
   "source": [
    ">6. Utiliser cette fonction pour créer une nouvelle table appelée `station_et_snack`, issue de la fusion des 2 tables."
   ]
  },
  {
   "cell_type": "code",
   "execution_count": null,
   "id": "mighty-habitat",
   "metadata": {},
   "outputs": [],
   "source": []
  },
  {
   "cell_type": "markdown",
   "id": "engaged-russell",
   "metadata": {},
   "source": [
    ">7. Créer un nouveau fichier 'table_et_snack.txt' à partir de cette table, puis afficher les marqueurs sur la [carte](https://www.cahier-nsi.fr/livecsvmap2/)."
   ]
  },
  {
   "cell_type": "code",
   "execution_count": null,
   "id": "diverse-conflict",
   "metadata": {},
   "outputs": [],
   "source": []
  },
  {
   "cell_type": "code",
   "execution_count": null,
   "id": "handy-constraint",
   "metadata": {},
   "outputs": [],
   "source": []
  }
 ],
 "metadata": {
  "kernelspec": {
   "display_name": "Python 3",
   "language": "python",
   "name": "python3"
  },
  "language_info": {
   "codemirror_mode": {
    "name": "ipython",
    "version": 3
   },
   "file_extension": ".py",
   "mimetype": "text/x-python",
   "name": "python",
   "nbconvert_exporter": "python",
   "pygments_lexer": "ipython3",
   "version": "3.7.9"
  }
 },
 "nbformat": 4,
 "nbformat_minor": 5
}
